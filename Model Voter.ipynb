{
 "cells": [
  {
   "cell_type": "markdown",
   "metadata": {},
   "source": [
    "# Voting classifier"
   ]
  },
  {
   "cell_type": "code",
   "execution_count": 1,
   "metadata": {},
   "outputs": [],
   "source": [
    "from sklearn.ensemble import VotingClassifier"
   ]
  },
  {
   "cell_type": "code",
   "execution_count": 11,
   "metadata": {},
   "outputs": [
    {
     "name": "stdout",
     "output_type": "stream",
     "text": [
      "D:\\Programy\\Anaconda3\\Projects\\EEG ML project\n"
     ]
    }
   ],
   "source": [
    "# load basic libraries\n",
    "import pandas as pd\n",
    "import numpy as np\n",
    "import mne\n",
    "from pathlib import Path\n",
    "import pickle\n",
    "import time\n",
    "\n",
    "%matplotlib widget\n",
    "import matplotlib\n",
    "import matplotlib.pyplot as plt\n",
    "\n",
    "from sklearn.metrics import make_scorer, accuracy_score, f1_score\n",
    "from sklearn.model_selection import GridSearchCV, cross_val_score\n",
    "\n",
    "# set directories\n",
    "# %cd D:/Programy/Anaconda3/Projects/EEG ML project # working directory\n",
    "%cd D:\n",
    "pkls = './Pickles/' # objects & variables"
   ]
  },
  {
   "cell_type": "code",
   "execution_count": 3,
   "metadata": {},
   "outputs": [
    {
     "data": {
      "text/plain": [
       "(6040, 94)"
      ]
     },
     "execution_count": 3,
     "metadata": {},
     "output_type": "execute_result"
    }
   ],
   "source": [
    "# load split sets, eeg only\n",
    "with open(pkls +'xy_train.pkl', 'rb') as handle:\n",
    "    x_train = pickle.load(handle)\n",
    "    y_train = pickle.load(handle)\n",
    "y_train.shape\n",
    "x_train.shape"
   ]
  },
  {
   "cell_type": "code",
   "execution_count": 6,
   "metadata": {},
   "outputs": [],
   "source": [
    "# load models to include in the voter\n",
    "\n",
    "with open(pkls + 'best_svc.pkl', 'rb') as handle:\n",
    "    best_svc = pickle.load(handle)\n",
    "    best_svc_res = pickle.load(handle)\n",
    "    \n",
    "with open(pkls + 'best_knn.pkl', 'rb') as handle:\n",
    "    best_knn = pickle.load(handle)\n",
    "    best_knn_res = pickle.load(handle)\n",
    "    \n",
    "with open(pkls + 'best_gnb.pkl', 'rb') as handle:\n",
    "    best_gnb = pickle.load(handle)\n",
    "    best_gnb_res = pickle.load(handle)\n",
    "    \n",
    "with open(pkls + 'best_extr.pkl', 'rb') as handle:\n",
    "    best_extr = pickle.load(handle)\n",
    "    best_extr_res = pickle.load(handle)\n",
    "    \n",
    "with open(pkls + 'best_forest.pkl', 'rb') as handle:\n",
    "    best_forest = pickle.load(handle)\n",
    "    best_forest_res = pickle.load(handle)"
   ]
  },
  {
   "cell_type": "code",
   "execution_count": 13,
   "metadata": {},
   "outputs": [
    {
     "data": {
      "text/plain": [
       "VotingClassifier(estimators=[('gnb',\n",
       "                              GaussianNB(priors=None, var_smoothing=1e-09)),\n",
       "                             ('knn',\n",
       "                              KNeighborsClassifier(algorithm='auto',\n",
       "                                                   leaf_size=30,\n",
       "                                                   metric='manhattan',\n",
       "                                                   metric_params=None,\n",
       "                                                   n_jobs=None, n_neighbors=19,\n",
       "                                                   p=2, weights='uniform')),\n",
       "                             ('svc',\n",
       "                              SVC(C=1, break_ties=False, cache_size=200,\n",
       "                                  class_weight=None, coef0=0.0,\n",
       "                                  decision_function_shape='ovr', degree=3,\n",
       "                                  gamma=0....\n",
       "                                                     criterion='gini',\n",
       "                                                     max_depth=4,\n",
       "                                                     max_features='auto',\n",
       "                                                     max_leaf_nodes=16,\n",
       "                                                     max_samples=None,\n",
       "                                                     min_impurity_decrease=0.0,\n",
       "                                                     min_impurity_split=None,\n",
       "                                                     min_samples_leaf=2,\n",
       "                                                     min_samples_split=2,\n",
       "                                                     min_weight_fraction_leaf=0.0,\n",
       "                                                     n_estimators=10,\n",
       "                                                     n_jobs=None,\n",
       "                                                     oob_score=False,\n",
       "                                                     random_state=None,\n",
       "                                                     verbose=0,\n",
       "                                                     warm_start=False))],\n",
       "                 flatten_transform=True, n_jobs=None, voting='hard',\n",
       "                 weights=None)"
      ]
     },
     "execution_count": 13,
     "metadata": {},
     "output_type": "execute_result"
    }
   ],
   "source": [
    "voting_clf = VotingClassifier(\n",
    "    estimators=[('gnb', best_gnb), \n",
    "                ('knn', best_knn), \n",
    "                ('svc', best_svc),\n",
    "                ('extr', best_extr),\n",
    "                ('forest', best_forest)],\n",
    "    voting='hard')\n",
    "\n",
    "voting_clf.fit(x_train, y_train.values.ravel())"
   ]
  },
  {
   "cell_type": "code",
   "execution_count": 14,
   "metadata": {},
   "outputs": [
    {
     "data": {
      "text/html": [
       "<div>\n",
       "<style scoped>\n",
       "    .dataframe tbody tr th:only-of-type {\n",
       "        vertical-align: middle;\n",
       "    }\n",
       "\n",
       "    .dataframe tbody tr th {\n",
       "        vertical-align: top;\n",
       "    }\n",
       "\n",
       "    .dataframe thead th {\n",
       "        text-align: right;\n",
       "    }\n",
       "</style>\n",
       "<table border=\"1\" class=\"dataframe\">\n",
       "  <thead>\n",
       "    <tr style=\"text-align: right;\">\n",
       "      <th></th>\n",
       "      <th>acc mean</th>\n",
       "      <th>acc 2sd</th>\n",
       "      <th>f1 mean</th>\n",
       "      <th>f1 2sd</th>\n",
       "    </tr>\n",
       "  </thead>\n",
       "  <tbody>\n",
       "    <tr>\n",
       "      <th>voter</th>\n",
       "      <td>0.527</td>\n",
       "      <td>0.079</td>\n",
       "      <td>0.507</td>\n",
       "      <td>0.057</td>\n",
       "    </tr>\n",
       "  </tbody>\n",
       "</table>\n",
       "</div>"
      ],
      "text/plain": [
       "       acc mean  acc 2sd  f1 mean  f1 2sd\n",
       "voter     0.527    0.079    0.507   0.057"
      ]
     },
     "execution_count": 14,
     "metadata": {},
     "output_type": "execute_result"
    }
   ],
   "source": [
    "# evaluate\n",
    "cv = 10\n",
    "scores = cross_val_score(voting_clf, x_train, y_train.values.ravel(), cv=cv)\n",
    "scoresf1 = cross_val_score(voting_clf, x_train, y_train.values.ravel(), cv=cv, scoring='f1_weighted')\n",
    "\n",
    "voter_res = pd.DataFrame(data = [round(scores.mean(),3), round(scores.std() * 2, 3), \n",
    "                                 round(scoresf1.mean(),3), round(scoresf1.std() * 2,3)]).T\n",
    "voter_res.columns = ['acc mean', 'acc 2sd', 'f1 mean','f1 2sd']\n",
    "voter_res.index = ['voter']\n",
    "voter_res"
   ]
  },
  {
   "cell_type": "code",
   "execution_count": 12,
   "metadata": {},
   "outputs": [
    {
     "name": "stdout",
     "output_type": "stream",
     "text": [
      "training acc mean: 0.7248\n",
      "training f1  mean: 0.7208\n"
     ]
    }
   ],
   "source": [
    "# train set score for comparison\n",
    "voting_clf.fit(x_train, y_train.values.ravel())\n",
    "print(\"training acc mean: {:.4f}\".format(\n",
    "    voting_clf.score(x_train, y_train)))\n",
    "print(\"training f1  mean: {:.4f}\".format(\n",
    "    f1_score(y_train, voting_clf.predict(x_train), average = 'weighted')))"
   ]
  },
  {
   "cell_type": "code",
   "execution_count": 15,
   "metadata": {},
   "outputs": [],
   "source": [
    "with open('./Pickles/voter.pkl', 'wb') as handle:\n",
    "    pickle.dump(voting_clf, handle)\n",
    "    pickle.dump(voter_res, handle)"
   ]
  }
 ],
 "metadata": {
  "kernelspec": {
   "display_name": "Python 3",
   "language": "python",
   "name": "python3"
  },
  "language_info": {
   "codemirror_mode": {
    "name": "ipython",
    "version": 3
   },
   "file_extension": ".py",
   "mimetype": "text/x-python",
   "name": "python",
   "nbconvert_exporter": "python",
   "pygments_lexer": "ipython3",
   "version": "3.7.6"
  }
 },
 "nbformat": 4,
 "nbformat_minor": 4
}
