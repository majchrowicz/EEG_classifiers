{
 "cells": [
  {
   "cell_type": "markdown",
   "metadata": {},
   "source": [
    "# Gradient Boosting "
   ]
  },
  {
   "cell_type": "code",
   "execution_count": 1,
   "metadata": {},
   "outputs": [],
   "source": [
    "from sklearn.ensemble import GradientBoostingClassifier"
   ]
  },
  {
   "cell_type": "code",
   "execution_count": 2,
   "metadata": {},
   "outputs": [
    {
     "name": "stdout",
     "output_type": "stream",
     "text": [
      "D:\\Bartek\\JupyterLab Projects\\ML EEG project\n"
     ]
    }
   ],
   "source": [
    "# load basic libraries\n",
    "import pandas as pd\n",
    "import numpy as np\n",
    "import mne\n",
    "from pathlib import Path\n",
    "import pickle\n",
    "import time\n",
    "\n",
    "from sklearn.metrics import make_scorer, accuracy_score, f1_score\n",
    "from sklearn.model_selection import GridSearchCV, cross_val_score\n",
    "\n",
    "%matplotlib widget\n",
    "import matplotlib\n",
    "import matplotlib.pyplot as plt\n",
    "\n",
    "# set directories\n",
    "# %cd D:/Programy/Anaconda3/Projects/EEG ML project # working directory\n",
    "%cd D:\n",
    "pkls = './Pickles/' # objects & variables"
   ]
  },
  {
   "cell_type": "code",
   "execution_count": 3,
   "metadata": {},
   "outputs": [
    {
     "data": {
      "text/plain": [
       "(6040, 94)"
      ]
     },
     "execution_count": 3,
     "metadata": {},
     "output_type": "execute_result"
    }
   ],
   "source": [
    "# load split sets, eeg only\n",
    "with open(pkls +'xy_train.pkl', 'rb') as handle:\n",
    "    x_train = pickle.load(handle)\n",
    "    y_train = pickle.load(handle)\n",
    "y_train.shape\n",
    "x_train.shape"
   ]
  },
  {
   "cell_type": "markdown",
   "metadata": {},
   "source": [
    "### Early stopping with Grid search"
   ]
  },
  {
   "cell_type": "code",
   "execution_count": 14,
   "metadata": {},
   "outputs": [
    {
     "name": "stdout",
     "output_type": "stream",
     "text": [
      "Fitting 10 folds for each of 9 candidates, totalling 90 fits\n"
     ]
    },
    {
     "name": "stderr",
     "output_type": "stream",
     "text": [
      "[Parallel(n_jobs=6)]: Using backend LokyBackend with 6 concurrent workers.\n",
      "[Parallel(n_jobs=6)]: Done  38 tasks      | elapsed:  2.3min\n",
      "[Parallel(n_jobs=6)]: Done  90 out of  90 | elapsed:  3.4min finished\n"
     ]
    }
   ],
   "source": [
    "cv = 10\n",
    "n_gbes = []\n",
    "time_gbes = []\n",
    "\n",
    "param_grid = {'max_depth': [2, 3, 4], \n",
    "              'learning_rate': [0.1, 0.5, 1.5]} \n",
    "\n",
    "scorers = {'accuracy': make_scorer(accuracy_score),\n",
    "           'f1'      : make_scorer(f1_score, average = 'weighted')}\n",
    "\n",
    "grid = GridSearchCV(GradientBoostingClassifier(validation_fraction = 0.2,\n",
    "                                               n_iter_no_change=10, \n",
    "                                               tol=0.01,\n",
    "                                               random_state=42), \n",
    "                    param_grid, refit='accuracy', verbose=1, \n",
    "                    scoring = scorers, return_train_score=True, cv = cv, n_jobs = 6)\n",
    "\n",
    "start = time.time()\n",
    "\n",
    "grid.fit(x_train, y_train.values.ravel())\n",
    "best_gbc = grid.best_estimator_\n",
    "best_gbc\n",
    "\n",
    "time_gbes.append(time.time() - start)\n",
    "n_gbes.append(gbes.n_estimators_)"
   ]
  },
  {
   "cell_type": "code",
   "execution_count": 15,
   "metadata": {},
   "outputs": [],
   "source": [
    "time_gbes\n",
    "n_gbes\n",
    "best_gbc"
   ]
  },
  {
   "cell_type": "code",
   "execution_count": 18,
   "metadata": {},
   "outputs": [
    {
     "data": {
      "text/html": [
       "<div>\n",
       "<style scoped>\n",
       "    .dataframe tbody tr th:only-of-type {\n",
       "        vertical-align: middle;\n",
       "    }\n",
       "\n",
       "    .dataframe tbody tr th {\n",
       "        vertical-align: top;\n",
       "    }\n",
       "\n",
       "    .dataframe thead th {\n",
       "        text-align: right;\n",
       "    }\n",
       "</style>\n",
       "<table border=\"1\" class=\"dataframe\">\n",
       "  <thead>\n",
       "    <tr style=\"text-align: right;\">\n",
       "      <th></th>\n",
       "      <th>acc mean</th>\n",
       "      <th>acc 2sd</th>\n",
       "      <th>f1 mean</th>\n",
       "      <th>f1 2sd</th>\n",
       "    </tr>\n",
       "  </thead>\n",
       "  <tbody>\n",
       "    <tr>\n",
       "      <th>gbc</th>\n",
       "      <td>0.697</td>\n",
       "      <td>0.0344</td>\n",
       "      <td>0.6954</td>\n",
       "      <td>0.0355</td>\n",
       "    </tr>\n",
       "  </tbody>\n",
       "</table>\n",
       "</div>"
      ],
      "text/plain": [
       "     acc mean  acc 2sd  f1 mean  f1 2sd\n",
       "gbc     0.697   0.0344   0.6954  0.0355"
      ]
     },
     "execution_count": 18,
     "metadata": {},
     "output_type": "execute_result"
    }
   ],
   "source": [
    "# evaluate and save\n",
    "best_gbc_res = round(pd.DataFrame(index = ['gbc'], data  = \n",
    "          {'acc mean':[grid.cv_results_['mean_test_accuracy'][grid.best_index_]],\n",
    "           'acc 2sd': [2*grid.cv_results_['std_test_accuracy'][grid.best_index_]],\n",
    "           'f1 mean': [grid.cv_results_['mean_test_f1'][grid.best_index_]],\n",
    "           'f1 2sd' : [2*grid.cv_results_['std_test_f1'][grid.best_index_]]}),4)\n",
    "best_gbc_res"
   ]
  },
  {
   "cell_type": "code",
   "execution_count": 19,
   "metadata": {},
   "outputs": [
    {
     "name": "stdout",
     "output_type": "stream",
     "text": [
      "training acc mean: 0.9017\n",
      "training f1  mean: 0.9015\n"
     ]
    }
   ],
   "source": [
    "# train set score for comparison\n",
    "best_gbc.fit(x_train, y_train.values.ravel())\n",
    "print(\"training acc mean: {:.4f}\".format(\n",
    "    best_gbc.score(x_train, y_train)))\n",
    "print(\"training f1  mean: {:.4f}\".format(\n",
    "    f1_score(y_train, best_gbc.predict(x_train), average = 'weighted')))"
   ]
  },
  {
   "cell_type": "code",
   "execution_count": 7,
   "metadata": {},
   "outputs": [],
   "source": [
    "# save best\n",
    "with open('./Pickles/best_gbc.pkl', 'wb') as handle:\n",
    "    pickle.dump(best_gbc, handle)\n",
    "    pickle.dump(best_gbc_res, handle)"
   ]
  },
  {
   "cell_type": "code",
   "execution_count": 5,
   "metadata": {},
   "outputs": [],
   "source": [
    "with open(pkls + 'best_gbc.pkl', 'rb') as handle:\n",
    "    best_gbc = pickle.load(handle)\n",
    "    best_gbc_res = pickle.load(handle)"
   ]
  }
 ],
 "metadata": {
  "kernelspec": {
   "display_name": "Python 3",
   "language": "python",
   "name": "python3"
  },
  "language_info": {
   "codemirror_mode": {
    "name": "ipython",
    "version": 3
   },
   "file_extension": ".py",
   "mimetype": "text/x-python",
   "name": "python",
   "nbconvert_exporter": "python",
   "pygments_lexer": "ipython3",
   "version": "3.7.6"
  }
 },
 "nbformat": 4,
 "nbformat_minor": 4
}
