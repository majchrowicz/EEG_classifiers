{
 "cells": [
  {
   "cell_type": "markdown",
   "metadata": {},
   "source": [
    "# Support Vector Machine \n",
    "HOML pp 151/221 <br>\n",
    "Default OvO strategy"
   ]
  },
  {
   "cell_type": "code",
   "execution_count": null,
   "metadata": {},
   "outputs": [],
   "source": [
    "from sklearn.svm import LinearSVC, SVC"
   ]
  },
  {
   "cell_type": "code",
   "execution_count": null,
   "metadata": {},
   "outputs": [],
   "source": [
    "# load basic libraries\n",
    "import pandas as pd\n",
    "import numpy as np\n",
    "import mne\n",
    "from pathlib import Path\n",
    "import pickle\n",
    "import time\n",
    "\n",
    "from sklearn.metrics import make_scorer, accuracy_score, f1_score\n",
    "from sklearn.model_selection import GridSearchCV, cross_val_score\n",
    "\n",
    "%matplotlib widget\n",
    "import matplotlib\n",
    "import matplotlib.pyplot as plt\n",
    "\n",
    "# set directories\n",
    "# %cd D:/Programy/Anaconda3/Projects/EEG ML project # working directory\n",
    "%cd D:\n",
    "pkls = './Pickles/' # objects & variables"
   ]
  },
  {
   "cell_type": "code",
   "execution_count": null,
   "metadata": {},
   "outputs": [],
   "source": [
    "# to see all output\n",
    "from IPython.core.interactiveshell import InteractiveShell\n",
    "InteractiveShell.ast_node_interactivity = \"last_expr\""
   ]
  },
  {
   "cell_type": "code",
   "execution_count": null,
   "metadata": {},
   "outputs": [],
   "source": [
    "# load split sets, eeg only\n",
    "with open(pkls +'xy_train.pkl', 'rb') as handle:\n",
    "    x_train = pickle.load(handle)\n",
    "    y_train = pickle.load(handle)\n",
    "y_train.shape\n",
    "x_train.shape"
   ]
  },
  {
   "cell_type": "code",
   "execution_count": null,
   "metadata": {},
   "outputs": [],
   "source": [
    "# susbet\n",
    "y_train = y_train.iloc[:500]\n",
    "x_train = x_train.iloc[:500]"
   ]
  },
  {
   "cell_type": "markdown",
   "metadata": {},
   "source": [
    "### Grid search "
   ]
  },
  {
   "cell_type": "markdown",
   "metadata": {},
   "source": [
    "#### Linear "
   ]
  },
  {
   "cell_type": "code",
   "execution_count": null,
   "metadata": {},
   "outputs": [],
   "source": [
    "cv = 5\n",
    "param_grid = {'C': [0.1, 1, 10], \n",
    "              'penalty': ['l1', 'l2']}\n",
    "\n",
    "scorers = {'accuracy': make_scorer(accuracy_score),\n",
    "           'f1'      : make_scorer(f1_score, average = 'weighted')}\n",
    "grid = GridSearchCV(LinearSVC(max_iter = 2000, loss = 'hinge'), param_grid, refit='accuracy', verbose = 12, \n",
    "                    scoring = scorers, return_train_score=True, cv = cv, n_jobs = -1)\n",
    "\n",
    "grid.fit(x_train, y_train.values.ravel())\n",
    "best_svclin = grid.best_estimator_"
   ]
  },
  {
   "cell_type": "code",
   "execution_count": null,
   "metadata": {},
   "outputs": [],
   "source": [
    "# evaluate\n",
    "best_svclin_res = round(pd.DataFrame(index = ['svc_lin'], data  = \n",
    "          {'acc mean': [grid.cv_results_['mean_test_accuracy'][grid.best_index_]],\n",
    "           'acc 2sd': [2*grid.cv_results_['std_test_accuracy'][grid.best_index_]],\n",
    "           'f1 mean': [grid.cv_results_['mean_test_f1'][grid.best_index_]],\n",
    "           'f1 2sd' : [2*grid.cv_results_['std_test_f1'][grid.best_index_]]}),4)\n",
    "best_svclin_res"
   ]
  },
  {
   "cell_type": "code",
   "execution_count": null,
   "metadata": {},
   "outputs": [],
   "source": [
    "# save  model\n",
    "with open('./Pickles/best_svclin.pkl', 'wb') as handle:\n",
    "    pickle.dump(best_svclin, handle)\n",
    "    pickle.dump(best_svclin_res, handle)"
   ]
  },
  {
   "cell_type": "code",
   "execution_count": null,
   "metadata": {},
   "outputs": [],
   "source": [
    "# load model\n",
    "with open(pkls + 'best_svclin.pkl', 'rb') as handle:\n",
    "    best_svclin = pickle.load(handle)\n",
    "    best_svclin_res = pickle.load(handle)"
   ]
  },
  {
   "cell_type": "markdown",
   "metadata": {},
   "source": [
    "#### RBF"
   ]
  },
  {
   "cell_type": "code",
   "execution_count": null,
   "metadata": {},
   "outputs": [],
   "source": [
    "cv = 5\n",
    "param_grid = {'C': [0.1, 1, 10], \n",
    "              'gamma': [1, 0.1, 0.01]}\n",
    "\n",
    "scorers = {'accuracy': make_scorer(accuracy_score),\n",
    "           'f1'      : make_scorer(f1_score, average = 'weighted')}\n",
    "grid = GridSearchCV(SVC(probability = True, kernel = 'rbf'), param_grid, refit='accuracy', verbose = 12, \n",
    "                    scoring = scorers, return_train_score=True, cv = cv, n_jobs = -1)\n",
    "\n",
    "grid.fit(x_train, y_train.values.ravel())\n",
    "best_svc = grid.best_estimator_"
   ]
  },
  {
   "cell_type": "code",
   "execution_count": null,
   "metadata": {},
   "outputs": [],
   "source": [
    "# evaluate\n",
    "best_svc_res = round(pd.DataFrame(index = ['svc_rbf'], data  = \n",
    "          {'acc mean': [grid.cv_results_['mean_test_accuracy'][grid.best_index_]],\n",
    "           'acc 2sd': [2*grid.cv_results_['std_test_accuracy'][grid.best_index_]],\n",
    "           'f1 mean': [grid.cv_results_['mean_test_f1'][grid.best_index_]],\n",
    "           'f1 2sd' : [2*grid.cv_results_['std_test_f1'][grid.best_index_]]}),4)\n",
    "best_svc_res"
   ]
  },
  {
   "cell_type": "code",
   "execution_count": null,
   "metadata": {},
   "outputs": [],
   "source": [
    "# save  model\n",
    "with open('./Pickles/best_svc.pkl', 'wb') as handle:\n",
    "    pickle.dump(best_svc, handle)\n",
    "    pickle.dump(best_svc_res, handle)"
   ]
  },
  {
   "cell_type": "code",
   "execution_count": null,
   "metadata": {},
   "outputs": [],
   "source": [
    "# load model\n",
    "with open(pkls + 'best_svc.pkl', 'rb') as handle:\n",
    "    best_svc = pickle.load(handle)\n",
    "    best_svc_res = pickle.load(handle)"
   ]
  },
  {
   "cell_type": "markdown",
   "metadata": {},
   "source": [
    "### Model inspection"
   ]
  },
  {
   "cell_type": "code",
   "execution_count": null,
   "metadata": {},
   "outputs": [],
   "source": [
    "# test prediction for some observation\n",
    "obsno = 100\n",
    "someobs = x_train.values[obsno]\n",
    "\n",
    "y_train.values[obsno] # actual\n",
    "best_svc.predict([someobs]) # predicted\n",
    "best_svc.decision_function([someobs]) # score, 1 for binary, more for multiclass"
   ]
  },
  {
   "cell_type": "code",
   "execution_count": null,
   "metadata": {},
   "outputs": [],
   "source": [
    "# permutation importance\n",
    "from sklearn.inspection import permutation_importance\n",
    "\n",
    "n_repeats = 2 \n",
    "feaimpo = permutation_importance(best_svc, x_train, y_train, n_repeats=n_repeats,\n",
    "                                random_state=42, n_jobs = -1)\n",
    "feaimpo.importances"
   ]
  },
  {
   "cell_type": "code",
   "execution_count": null,
   "metadata": {},
   "outputs": [],
   "source": [
    "with open('./Pickles/best_svc_importances.pkl', 'wb') as handle:\n",
    "    pickle.dump(feaimpo, handle)"
   ]
  },
  {
   "cell_type": "code",
   "execution_count": null,
   "metadata": {},
   "outputs": [],
   "source": [
    "with open(pkls + 'best_svc_importances.pkl', 'rb') as handle:\n",
    "    feaimpo = pickle.load(handle)"
   ]
  },
  {
   "cell_type": "code",
   "execution_count": null,
   "metadata": {},
   "outputs": [],
   "source": [
    "# plot feature permutation importances \n",
    "%matplotlib widget\n",
    "result = feaimpo\n",
    "\n",
    "fig, ax = plt.subplots(figsize = (8, 13), dpi = 100) # width, height\n",
    "sorted_idx = result.importances_mean.argsort()\n",
    "ax.boxplot(result.importances[sorted_idx].T, vert=False, \n",
    "           labels=x_train.columns[sorted_idx])\n",
    "ax.set_title(\"Permutation Importances - SVC\")\n",
    "ax.set_ylabel(\"Features\")\n",
    "fig.tight_layout()\n",
    "plt.show()"
   ]
  },
  {
   "cell_type": "code",
   "execution_count": null,
   "metadata": {},
   "outputs": [],
   "source": [
    "from scipy.stats import spearmanr\n",
    "from scipy.cluster import hierarchy\n",
    "\n",
    "fig, (ax1, ax2) = plt.subplots(1, 2, figsize=(16, 8))\n",
    "corr = spearmanr(x_train).correlation\n",
    "corr_linkage = hierarchy.ward(corr)\n",
    "dendro = hierarchy.dendrogram(corr_linkage, labels=x_train.columns, ax=ax1,\n",
    "                              leaf_rotation=90)\n",
    "dendro_idx = np.arange(0, len(dendro['ivl']))\n",
    "\n",
    "ax2.imshow(corr[dendro['leaves'], :][:, dendro['leaves']])\n",
    "ax2.set_xticks(dendro_idx)\n",
    "ax2.set_yticks(dendro_idx)\n",
    "ax2.set_xticklabels(dendro['ivl'], rotation='vertical')\n",
    "ax2.set_yticklabels(dendro['ivl'])\n",
    "fig.tight_layout()\n",
    "plt.show()"
   ]
  },
  {
   "cell_type": "markdown",
   "metadata": {},
   "source": [
    "Next, we manually pick a threshold by visual inspection of the dendrogram to group our features into clusters and choose a feature from each cluster to keep, select those features from our dataset, and train a new random forest. The test accuracy of the new random forest did not change much compared to the random forest trained on the complete dataset."
   ]
  },
  {
   "cell_type": "code",
   "execution_count": null,
   "metadata": {},
   "outputs": [],
   "source": [
    "from collections import defaultdict\n",
    "\n",
    "threshold = 1\n",
    "cluster_ids = hierarchy.fcluster(corr_linkage, t = threshold, criterion='distance')\n",
    "cluster_id_to_feature_ids = defaultdict(list)\n",
    "cluster_id_to_feature_ids\n",
    "for idx, cluster_id in enumerate(cluster_ids):\n",
    "    cluster_id_to_feature_ids[cluster_id].append(idx)\n",
    "selected_features = [v[0] for v in cluster_id_to_feature_ids.values()]\n",
    "\n",
    "x_train_np = x_train.to_numpy()\n",
    "x_train_sel = x_train_np[:, selected_features]\n",
    "# X_test_sel = X_test[:, selected_features]\n",
    "\n",
    "best_svc.fit(x_train_sel, y_train.values.ravel())\n",
    "\n",
    "\n",
    "# round(pd.DataFrame(index = ['svc'], data  = \n",
    "#           {'acc mean': [grid.cv_results_['mean_test_accuracy'][grid.best_index_]],\n",
    "#            'acc 2sd': [2*grid.cv_results_['std_test_accuracy'][grid.best_index_]],\n",
    "#            'f1 mean': [grid.cv_results_['mean_test_f1'][grid.best_index_]],\n",
    "#            'f1 2sd' : [2*grid.cv_results_['std_test_f1'][grid.best_index_]]}),4)\n",
    "\n",
    "print(\"Accuracy with features removed: {:.2f}\".format(\n",
    "    best_svc.score(x_train_sel, y_train)))"
   ]
  },
  {
   "cell_type": "code",
   "execution_count": null,
   "metadata": {},
   "outputs": [],
   "source": [
    "# permutation importance 2\n",
    "from sklearn.inspection import permutation_importance\n",
    "\n",
    "n_repeats = 2 \n",
    "feaimpo2 = permutation_importance(best_svc, x_train_sel, y_train, n_repeats=n_repeats,\n",
    "                                random_state=42, n_jobs = -1)\n",
    "# feaimpo2.importances"
   ]
  },
  {
   "cell_type": "code",
   "execution_count": null,
   "metadata": {},
   "outputs": [],
   "source": [
    "# plot feature permutation importances \n",
    "%matplotlib widget\n",
    "result = feaimpo2\n",
    "\n",
    "fig, ax = plt.subplots(figsize = (8, 13), dpi = 100) # width, height\n",
    "sorted_idx = result.importances_mean.argsort()\n",
    "ax.boxplot(result.importances[sorted_idx].T, vert=False) \n",
    "#            ,labels=x_train_sel.columns[sorted_idx])\n",
    "ax.set_title(\"Permutation Importances - SVC\")\n",
    "ax.set_ylabel(\"Features\")\n",
    "fig.tight_layout()\n",
    "plt.show()"
   ]
  }
 ],
 "metadata": {
  "kernelspec": {
   "display_name": "Python 3",
   "language": "python",
   "name": "python3"
  },
  "language_info": {
   "codemirror_mode": {
    "name": "ipython",
    "version": 3
   },
   "file_extension": ".py",
   "mimetype": "text/x-python",
   "name": "python",
   "nbconvert_exporter": "python",
   "pygments_lexer": "ipython3",
   "version": "3.7.6"
  }
 },
 "nbformat": 4,
 "nbformat_minor": 4
}
