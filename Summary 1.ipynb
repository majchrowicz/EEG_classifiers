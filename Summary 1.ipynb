{
 "cells": [
  {
   "cell_type": "markdown",
   "metadata": {},
   "source": [
    "# Summary of models "
   ]
  },
  {
   "cell_type": "code",
   "execution_count": 2,
   "metadata": {},
   "outputs": [
    {
     "name": "stdout",
     "output_type": "stream",
     "text": [
      "D:\\Programy\\Anaconda3\\Projects\\EEG ML project\n"
     ]
    }
   ],
   "source": [
    "# load basic libraries\n",
    "import pandas as pd\n",
    "import numpy as np\n",
    "import mne\n",
    "from pathlib import Path\n",
    "import pickle\n",
    "import time\n",
    "\n",
    "from sklearn.metrics import make_scorer, accuracy_score\n",
    "from sklearn.model_selection import GridSearchCV, cross_val_score\n",
    "\n",
    "%matplotlib widget\n",
    "import matplotlib\n",
    "import matplotlib.pyplot as plt\n",
    "\n",
    "# set directories\n",
    "# %cd D:/Programy/Anaconda3/Projects/EEG ML project # working directory\n",
    "%cd D:\n",
    "pkls = './Pickles/' # objects & variables"
   ]
  },
  {
   "cell_type": "code",
   "execution_count": 3,
   "metadata": {},
   "outputs": [],
   "source": [
    "# save all models metrics to file\n",
    "%store -r mm\n",
    "mm.to_csv(path_or_buf = './mm.csv', sep = ';')"
   ]
  },
  {
   "cell_type": "code",
   "execution_count": 13,
   "metadata": {},
   "outputs": [],
   "source": [
    "# load models and results \n",
    "\n",
    "with open(pkls + 'best_svc.pkl', 'rb') as handle:\n",
    "    best_svc = pickle.load(handle)\n",
    "    best_svc_res = pickle.load(handle)\n",
    "    \n",
    "with open(pkls + 'best_knn.pkl', 'rb') as handle:\n",
    "    best_knn = pickle.load(handle)\n",
    "    best_knn_res = pickle.load(handle)\n",
    "    \n",
    "with open(pkls + 'best_gnb.pkl', 'rb') as handle:\n",
    "    best_gnb = pickle.load(handle)\n",
    "    best_gnb_res = pickle.load(handle)\n",
    "\n",
    "with open(pkls + 'doc_forest.pkl', 'rb') as handle:\n",
    "    doc = pickle.load(handle)\n",
    "    doc_res = pickle.load(handle)\n",
    "    \n",
    "with open(pkls + 'best_extr.pkl', 'rb') as handle:\n",
    "    best_extr = pickle.load(handle)\n",
    "    best_extr_res = pickle.load(handle)\n",
    "    \n",
    "with open(pkls + 'best_forest.pkl', 'rb') as handle:\n",
    "    best_forest = pickle.load(handle)\n",
    "    best_forest_res = pickle.load(handle)\n",
    "    \n",
    "with open(pkls + 'voter.pkl', 'rb') as handle:\n",
    "    voting_clf = pickle.load(handle)\n",
    "    voter_clf_res = pickle.load(handle)\n",
    "    \n",
    "with open(pkls + 'ada.pkl', 'rb') as handle:   \n",
    "    ada_clf = pickle.load(handle)\n",
    "    ada_clf_res = pickle.load(handle)\n",
    "\n",
    "with open(pkls + 'best_gbc.pkl', 'rb') as handle:\n",
    "    best_gbc = pickle.load(handle)\n",
    "    best_gbc_res = pickle.load(handle)"
   ]
  },
  {
   "cell_type": "code",
   "execution_count": 18,
   "metadata": {},
   "outputs": [],
   "source": [
    "allres = best_svc_res.append(best_knn_res).append(best_gnb_res).append(doc_res). \\\n",
    "         append(best_extr_res).append(voter_clf_res).append(ada_clf_res).append(best_gbc_res)\n",
    "\n",
    "allres\n",
    "allres.to_csv(path_or_buf = './all_results.csv', sep = ';')"
   ]
  }
 ],
 "metadata": {
  "kernelspec": {
   "display_name": "Python 3",
   "language": "python",
   "name": "python3"
  },
  "language_info": {
   "codemirror_mode": {
    "name": "ipython",
    "version": 3
   },
   "file_extension": ".py",
   "mimetype": "text/x-python",
   "name": "python",
   "nbconvert_exporter": "python",
   "pygments_lexer": "ipython3",
   "version": "3.7.6"
  }
 },
 "nbformat": 4,
 "nbformat_minor": 4
}
