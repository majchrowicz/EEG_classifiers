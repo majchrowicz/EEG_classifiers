{
 "cells": [
  {
   "cell_type": "markdown",
   "metadata": {},
   "source": [
    "# AdaBoost "
   ]
  },
  {
   "cell_type": "code",
   "execution_count": 2,
   "metadata": {},
   "outputs": [],
   "source": [
    "from sklearn.ensemble import AdaBoostClassifier\n",
    "from sklearn.tree import DecisionTreeClassifier"
   ]
  },
  {
   "cell_type": "code",
   "execution_count": 3,
   "metadata": {},
   "outputs": [
    {
     "name": "stdout",
     "output_type": "stream",
     "text": [
      "D:\\Programy\\Anaconda3\\Projects\\EEG ML project\n"
     ]
    }
   ],
   "source": [
    "# load basic libraries\n",
    "import pandas as pd\n",
    "import numpy as np\n",
    "import mne\n",
    "from pathlib import Path\n",
    "import pickle\n",
    "import time\n",
    "\n",
    "from sklearn.metrics import make_scorer, accuracy_score, f1_score\n",
    "from sklearn.model_selection import GridSearchCV, cross_val_score\n",
    "\n",
    "%matplotlib widget\n",
    "import matplotlib\n",
    "import matplotlib.pyplot as plt\n",
    "\n",
    "# set directories\n",
    "# %cd D:/Programy/Anaconda3/Projects/EEG ML project # working directory\n",
    "%cd D:\n",
    "pkls = './Pickles/' # objects & variables"
   ]
  },
  {
   "cell_type": "code",
   "execution_count": 4,
   "metadata": {},
   "outputs": [
    {
     "data": {
      "text/plain": [
       "(6040, 94)"
      ]
     },
     "execution_count": 4,
     "metadata": {},
     "output_type": "execute_result"
    }
   ],
   "source": [
    "# load split sets, eeg only\n",
    "with open(pkls +'xy_train.pkl', 'rb') as handle:\n",
    "    x_train = pickle.load(handle)\n",
    "    y_train = pickle.load(handle)\n",
    "y_train.shape\n",
    "x_train.shape"
   ]
  },
  {
   "cell_type": "code",
   "execution_count": 4,
   "metadata": {},
   "outputs": [],
   "source": [
    "# load x train reduced (post-PCA), eeg only\n",
    "with open(pkls +'x_train_reduced.pkl', 'rb') as handle:\n",
    "    x_train_reduced = pickle.load(handle)"
   ]
  },
  {
   "cell_type": "code",
   "execution_count": null,
   "metadata": {},
   "outputs": [
    {
     "name": "stdout",
     "output_type": "stream",
     "text": [
      "Fitting 10 folds for each of 4 candidates, totalling 40 fits\n"
     ]
    },
    {
     "name": "stderr",
     "output_type": "stream",
     "text": [
      "[Parallel(n_jobs=-1)]: Using backend LokyBackend with 4 concurrent workers.\n"
     ]
    }
   ],
   "source": [
    "# grid search\n",
    "cv = 10\n",
    "n_estimators = 600\n",
    "\n",
    "param_grid = {'base_estimator__max_depth': [2, 3, 4], # tree's params\n",
    "              'base_estimator__max_features': ['log2', 'auto'],\n",
    "              'base_estimator__max_leaf_nodes': [8, 16, 24],\n",
    "              'base_estimator__min_samples_leaf': [1,2],\n",
    "              'learning_rate': [0.5, 1]}               # ada's params\n",
    "\n",
    "scorers = {'accuracy': make_scorer(accuracy_score),\n",
    "           'f1'      : make_scorer(f1_score, average = 'weighted')}\n",
    "\n",
    "dt_clf = DecisionTreeClassifier(random_state = 42)\n",
    "ada_clf = AdaBoostClassifier(base_estimator = dt_clf, n_estimators = n_estimators)\n",
    "\n",
    "grid = GridSearchCV(ada_clf, param_grid, refit='accuracy', verbose = 1, \n",
    "                        scoring = scorers, return_train_score=True, cv = cv, n_jobs = -1)\n",
    "\n",
    "grid.fit(x_train, y_train.values.ravel())\n",
    "best_ada = grid.best_estimator_\n",
    "best_ada"
   ]
  },
  {
   "cell_type": "code",
   "execution_count": 8,
   "metadata": {},
   "outputs": [
    {
     "data": {
      "text/plain": [
       "AdaBoostClassifier(algorithm='SAMME.R',\n",
       "                   base_estimator=DecisionTreeClassifier(ccp_alpha=0.0,\n",
       "                                                         class_weight=None,\n",
       "                                                         criterion='gini',\n",
       "                                                         max_depth=3,\n",
       "                                                         max_features=None,\n",
       "                                                         max_leaf_nodes=None,\n",
       "                                                         min_impurity_decrease=0.0,\n",
       "                                                         min_impurity_split=None,\n",
       "                                                         min_samples_leaf=1,\n",
       "                                                         min_samples_split=2,\n",
       "                                                         min_weight_fraction_leaf=0.0,\n",
       "                                                         presort='deprecated',\n",
       "                                                         random_state=42,\n",
       "                                                         splitter='best'),\n",
       "                   learning_rate=0.1, n_estimators=600, random_state=None)"
      ]
     },
     "execution_count": 8,
     "metadata": {},
     "output_type": "execute_result"
    }
   ],
   "source": [
    "best_ada"
   ]
  },
  {
   "cell_type": "code",
   "execution_count": 5,
   "metadata": {},
   "outputs": [
    {
     "data": {
      "text/html": [
       "<div>\n",
       "<style scoped>\n",
       "    .dataframe tbody tr th:only-of-type {\n",
       "        vertical-align: middle;\n",
       "    }\n",
       "\n",
       "    .dataframe tbody tr th {\n",
       "        vertical-align: top;\n",
       "    }\n",
       "\n",
       "    .dataframe thead th {\n",
       "        text-align: right;\n",
       "    }\n",
       "</style>\n",
       "<table border=\"1\" class=\"dataframe\">\n",
       "  <thead>\n",
       "    <tr style=\"text-align: right;\">\n",
       "      <th></th>\n",
       "      <th>acc mean</th>\n",
       "      <th>acc 2sd</th>\n",
       "      <th>f1 mean</th>\n",
       "      <th>f1 2sd</th>\n",
       "    </tr>\n",
       "  </thead>\n",
       "  <tbody>\n",
       "    <tr>\n",
       "      <th>gbc</th>\n",
       "      <td>0.5033</td>\n",
       "      <td>0.0391</td>\n",
       "      <td>0.4998</td>\n",
       "      <td>0.04</td>\n",
       "    </tr>\n",
       "  </tbody>\n",
       "</table>\n",
       "</div>"
      ],
      "text/plain": [
       "     acc mean  acc 2sd  f1 mean  f1 2sd\n",
       "gbc    0.5033   0.0391   0.4998    0.04"
      ]
     },
     "execution_count": 5,
     "metadata": {},
     "output_type": "execute_result"
    }
   ],
   "source": [
    "# evaluate and save\n",
    "best_ada_res = round(pd.DataFrame(index = ['gbc'], data  = \n",
    "          {'acc mean':[grid.cv_results_['mean_test_accuracy'][grid.best_index_]],\n",
    "           'acc 2sd': [2*grid.cv_results_['std_test_accuracy'][grid.best_index_]],\n",
    "           'f1 mean': [grid.cv_results_['mean_test_f1'][grid.best_index_]],\n",
    "           'f1 2sd' : [2*grid.cv_results_['std_test_f1'][grid.best_index_]]}),4)\n",
    "best_ada_res"
   ]
  },
  {
   "cell_type": "code",
   "execution_count": 9,
   "metadata": {},
   "outputs": [
    {
     "name": "stdout",
     "output_type": "stream",
     "text": [
      "training acc mean: 0.6714\n",
      "training f1  mean: 0.6703\n"
     ]
    }
   ],
   "source": [
    "# train set score for comparison\n",
    "ada_clf.fit(x_train, y_train.values.ravel())\n",
    "print(\"training acc mean: {:.4f}\".format(\n",
    "    ada_clf.score(x_train, y_train)))\n",
    "print(\"training f1  mean: {:.4f}\".format(\n",
    "    f1_score(y_train, ada_clf.predict(x_train), average = 'weighted')))"
   ]
  },
  {
   "cell_type": "code",
   "execution_count": 6,
   "metadata": {},
   "outputs": [
    {
     "ename": "NameError",
     "evalue": "name 'best_ada' is not defined",
     "output_type": "error",
     "traceback": [
      "\u001b[1;31m---------------------------------------------------------------------------\u001b[0m",
      "\u001b[1;31mNameError\u001b[0m                                 Traceback (most recent call last)",
      "\u001b[1;32m<ipython-input-6-e7a4a09916e8>\u001b[0m in \u001b[0;36m<module>\u001b[1;34m\u001b[0m\n\u001b[0;32m      1\u001b[0m \u001b[1;32mwith\u001b[0m \u001b[0mopen\u001b[0m\u001b[1;33m(\u001b[0m\u001b[1;34m'./Pickles/best_ada.pkl'\u001b[0m\u001b[1;33m,\u001b[0m \u001b[1;34m'wb'\u001b[0m\u001b[1;33m)\u001b[0m \u001b[1;32mas\u001b[0m \u001b[0mhandle\u001b[0m\u001b[1;33m:\u001b[0m\u001b[1;33m\u001b[0m\u001b[1;33m\u001b[0m\u001b[0m\n\u001b[1;32m----> 2\u001b[1;33m     \u001b[0mpickle\u001b[0m\u001b[1;33m.\u001b[0m\u001b[0mdump\u001b[0m\u001b[1;33m(\u001b[0m\u001b[0mbest_ada\u001b[0m\u001b[1;33m,\u001b[0m \u001b[0mhandle\u001b[0m\u001b[1;33m)\u001b[0m\u001b[1;33m\u001b[0m\u001b[1;33m\u001b[0m\u001b[0m\n\u001b[0m\u001b[0;32m      3\u001b[0m     \u001b[0mpickle\u001b[0m\u001b[1;33m.\u001b[0m\u001b[0mdump\u001b[0m\u001b[1;33m(\u001b[0m\u001b[0mbest_ada_res\u001b[0m\u001b[1;33m,\u001b[0m \u001b[0mhandle\u001b[0m\u001b[1;33m)\u001b[0m\u001b[1;33m\u001b[0m\u001b[1;33m\u001b[0m\u001b[0m\n",
      "\u001b[1;31mNameError\u001b[0m: name 'best_ada' is not defined"
     ]
    }
   ],
   "source": [
    "with open('./Pickles/best_ada.pkl', 'wb') as handle:\n",
    "    pickle.dump(best_ada, handle)\n",
    "    pickle.dump(best_ada_res, handle)"
   ]
  },
  {
   "cell_type": "code",
   "execution_count": 7,
   "metadata": {},
   "outputs": [],
   "source": [
    "with open('./Pickles/best_ada.pkl', 'rb') as handle:\n",
    "    best_ada = pickle.load(handle)\n",
    "    best_ada_res = pickle.load(handle)"
   ]
  }
 ],
 "metadata": {
  "kernelspec": {
   "display_name": "Python 3",
   "language": "python",
   "name": "python3"
  },
  "language_info": {
   "codemirror_mode": {
    "name": "ipython",
    "version": 3
   },
   "file_extension": ".py",
   "mimetype": "text/x-python",
   "name": "python",
   "nbconvert_exporter": "python",
   "pygments_lexer": "ipython3",
   "version": "3.7.6"
  }
 },
 "nbformat": 4,
 "nbformat_minor": 4
}
